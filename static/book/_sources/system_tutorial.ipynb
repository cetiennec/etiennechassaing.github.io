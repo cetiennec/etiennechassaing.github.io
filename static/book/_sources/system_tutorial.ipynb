{
 "cells": [
  {
   "metadata": {},
   "cell_type": "markdown",
   "source": [
    "# Heated Pipe System with Heat Loss\n",
    "\n",
    "This tutorial describes the process of controlling the outlet temperature of a 300 meters heat pipe close to the \n",
    "boiling temperature.\n",
    "\n",
    "The main goal is to describe the process of solving rather than the details of the equations.\n",
    "\n",
    "---"
   ],
   "id": "af00278c2a3c0f16"
  },
  {
   "metadata": {},
   "cell_type": "markdown",
   "source": [
    "\n",
    "## 1. System Description\n",
    "\n",
    "The system consists of a circular pipe through which water flows continuously. A heater is connected at the entrance ($x = 0$) \n",
    "of the pipe, providing a constant power input $P$ to the water. The water flows with constant velocity $u$, losing heat \n",
    "to the environment due to convection. At the outlet, the water returns to the heater, creating a closed loop.\n",
    "\n",
    "![heat loop](simple_diagram.png)\n",
    "\n",
    "\n",
    "### Schematic of the system:\n",
    "\n",
    "![heat loop](heat_loop.png)\n",
    "\n",
    "\n",
    "### Step response and first findings:\n",
    "\n",
    "![heat loop](step_response.jpg)\n",
    "\n",
    "From this we observe :\n",
    "- Stair-like behavior due to the recirculation\n",
    "- An inlet temperature that can go close to 100°C despite an outlet temperature that is barely above 85°C\n",
    "- A significant delay (~12 min)\n",
    "- A coupling and an intrication between inlet and outlet temperature\n",
    "\n",
    "**How to model and simulate these stairs?**\n",
    "\n",
    "\n",
    "## Physical model equations:\n",
    "\n",
    "\n",
    "The evolution of the temperature in the pipe is governed by the following partial differential equation (PDE):\n",
    "\n",
    "$$\n",
    "\\frac{\\partial T}{\\partial t} + u \\frac{\\partial T}{\\partial x} = -\\frac{h P_{\\text{pipe}}}{\\rho S c_p} \\left[ T(x, t) - T_{\\text{ext}} \\right]\n",
    "$$\n",
    "\n",
    "All notations are detailed in Appendix.\n",
    "\n",
    "Using $ \\Theta_{\\text{inlet}}(t) = T_{\\text{inlet}} - T_{\\text{ext}} $ and $\\Theta_{\\text{outlet}}(t) = T_{\\text{outlet}} - T_{\\text{ext}}$\n",
    "\n",
    "We can write delayed equations in which $\\tau$ is the time of travel and $P$ the power f the heater:\n",
    "\n",
    "$$\n",
    "\\Theta_{\\text{inlet}}(t) = \\frac{P}{\\dot{m}c_p} + K \\Theta_{\\text{inlet}}(t - \\tau),\n",
    "\\Theta_{\\text{outlet}}(t) = K \\left( \\frac{P}{D c_p} +  \\Theta_{\\text{outlet}}(t - \\tau) \\right).\n",
    "$$\n",
    "\n",
    "### Naive model\n",
    "\n",
    "The PDE equation can be naively discretized as follows:\n",
    "- The pipe is divided in N discrete segments\n",
    "- For each segment, its temperature is obtained by averaging its temperature with the neighbors and with the surrounding \n",
    "environment,subject to the heat loss coefficient.\n",
    "- Each temperature value is transferred to the next segment\n",
    "\n",
    "This simulation divides a pipe into small segments to model heat transfer step by step. At each time step, every segment’s \n",
    "temperature is updated based on its neighbors and the environment, while the temperature at the pipe’s end is \"pushed forward\" \n",
    "to the start—like a wave of heat moving through. The heater at one end injects warmth, and the animation reveals how heat spreads, \n",
    "stabilizes, and flows through the system. \n",
    "\n",
    "\n",
    "![heat loop](pipe_simulation.gif)\n",
    "\n",
    "Following plots show the impact of heat loss coefficient and external temperature on the curves :\n",
    "\n",
    "![heat loop](param_comparison.png)\n"
   ],
   "id": "945c6160371f4415"
  },
  {
   "metadata": {},
   "cell_type": "markdown",
   "source": "## 2. System Simulation\n",
   "id": "19cf6250a8012a24"
  },
  {
   "cell_type": "code",
   "id": "initial_id",
   "metadata": {
    "collapsed": true,
    "ExecuteTime": {
     "end_time": "2025-09-10T14:47:22.316696Z",
     "start_time": "2025-09-10T14:47:22.124801Z"
    }
   },
   "source": [
    "from simulation_backend import *\n",
    "interact(\n",
    "    simulate_and_plot,\n",
    "    P=FloatSlider(min=1, max=33, step=0.5, value=10, description='Power (kW):')\n",
    ");"
   ],
   "outputs": [
    {
     "data": {
      "text/plain": [
       "interactive(children=(FloatSlider(value=10.0, description='Power (kW):', max=33.0, min=1.0, step=0.5), Output(…"
      ],
      "application/vnd.jupyter.widget-view+json": {
       "version_major": 2,
       "version_minor": 0,
       "model_id": "577bf9e05320401381c3a3fc86e9e171"
      }
     },
     "metadata": {},
     "output_type": "display_data"
    }
   ],
   "execution_count": 59
  },
  {
   "metadata": {},
   "cell_type": "markdown",
   "source": [
    "\n",
    "## 3. Control\n",
    "\n",
    "### Control Objectives\n",
    "\n",
    "### 1) Traditionnal control technique with tinkering\n",
    "\n",
    "The standard equation of the PI controller is:\n",
    "\n",
    "$$\n",
    "u(t) = K_p \\, e(t) + K_i \\int_0^t e(\\tau) \\, d\\tau,\n",
    "$$\n",
    "\n",
    "where:\n",
    "- u(t) is the power of the heater,\n",
    "- $K_p$ is the proportional gain,\n",
    "- $K_i$ is the integral gain,\n",
    "- e(t) is the error between the setpoint and the outlet temperature.\n",
    "\n",
    "\n",
    "### 2) Optimal control via MPC\n",
    "\n",
    "\n",
    "$$\n",
    "u^*(k) = \\min_{u(0), \\dots, u(N_p-1)}\n",
    "\\sum_{i=0}^{N_p-1} \\left( y_i - (r_i - d_i) \\right)^T Q \\left( y_i - (r_i - d_i) \\right) + u_i^T R u_i + \\Delta u_i^T S \\Delta u_i,\n",
    "$$\n",
    "$$\n",
    "\\text{subject to:}\n",
    "\\begin{align*}\n",
    "&\\mathbf{x}(0) = \\mathbf{x}_0, \\\\\n",
    "&\\mathbf{x}_{i+1} = A \\mathbf{x}_i + B u_i, \\quad i = 0, \\dots, N_p-1, \\\\\n",
    "&y_i = C \\mathbf{x}_i, \\quad i = 0, \\dots, N_p-1, \\\\\n",
    "&0 \\leq \\mathbf{x}_i \\leq 95, \\quad i = 1, \\dots, N_p, \\\\\n",
    "&0 \\leq u_i \\leq 33, \\quad i = 0, \\dots, N_p-1, \\\\\n",
    "&\\Delta u_i = u(i) - u(i-1), \\quad i = 1, \\dots, N_p-1, \\\\\n",
    "&0 \\leq \\Delta{u}_i \\leq \\Delta{u}_{max}, \\quad i = 0, \\dots, N_p-1, \\\\\n",
    "&Q \\succ 0, \\, R \\succ 0.\n",
    "\\end{align*}\n",
    "$$\n",
    "\n",
    "where:\n",
    "- $N_p$ is the prediction horizon.\n",
    "- $r_i$ is the moving reference at time $i$.\n",
    "- $d_i$ is the moving disturbance ($T_{ext}$) at time $i$.\n",
    "- $Q \\succ 0$ and $R \\succ 0$ are weighting matrices for output tracking and input usage, respectively.\n",
    "\n",
    "\n",
    "### 3) Reinforcement Learning\n",
    "\n",
    "## Comparison and conclusion\n",
    "\n",
    "### Performances\n",
    "\n",
    "### Security\n",
    "\n",
    "### Complexity\n",
    "\n",
    "\n",
    "### Conclusion\n",
    "\n",
    "\n",
    "\n",
    "# Appendix\n",
    "\n",
    "- $x$: Position along the pipe in **meters (m)**.\n",
    "- $t$: Time in **seconds (s)**.\n",
    "- $T(x, t)$: Temperature of water at position $x$ and time $t$ in **kelvin (K)**.\n",
    "- $u$: Fluid velocity in **meters per second (m/s)**.\n",
    "- $\\rho$: Density of water in **kilograms per cubic meter (kg/m³)**.\n",
    "- $c_p$: Specific heat capacity of water in **joules per kilogram-kelvin (J/(kg·K))**.\n",
    "- $S$: Cross-sectional area of the pipe in **square meters (m²)**.\n",
    "- $P_{\\text{pipe}}$: Perimeter of the pipe in **meters (m)**.\n",
    "- $h$: Convective heat transfer coefficient in **watts per square meter-kelvin (W/(m²·K))**.\n",
    "- $P$: Heater power input in **watts (W)**.\n",
    "- $K = e^{-\\frac{\\alpha \\tau}{2}}$: A factor representing the effect of time delay and thermal losses (dimensionless).\n",
    "- $\\tau$: Delay time in **seconds (s)**.\n",
    "- $\\alpha$: Heat loss coefficient in **per second (1/s)**.\n",
    "\n"
   ],
   "id": "f6b318eff5d67704"
  },
  {
   "metadata": {
    "ExecuteTime": {
     "end_time": "2025-09-10T14:47:22.322903Z",
     "start_time": "2025-09-10T14:47:22.320981Z"
    }
   },
   "cell_type": "code",
   "source": "",
   "id": "85b94856b8be963d",
   "outputs": [],
   "execution_count": null
  }
 ],
 "metadata": {
  "kernelspec": {
   "display_name": "Python 3",
   "language": "python",
   "name": "python3"
  },
  "language_info": {
   "codemirror_mode": {
    "name": "ipython",
    "version": 2
   },
   "file_extension": ".py",
   "mimetype": "text/x-python",
   "name": "python",
   "nbconvert_exporter": "python",
   "pygments_lexer": "ipython2",
   "version": "2.7.6"
  }
 },
 "nbformat": 4,
 "nbformat_minor": 5
}

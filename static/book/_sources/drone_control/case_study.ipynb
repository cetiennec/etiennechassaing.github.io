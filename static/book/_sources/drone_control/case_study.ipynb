{
 "cells": [
  {
   "metadata": {},
   "cell_type": "markdown",
   "source": [
    "# Precision-landing of a Parrot drone \n",
    "\n",
    "This tutorial describes the precision control of a Parrot drone to perform a precision landing, the drone is roughly 30\\*30cm and should land in a 60\\*60cm area."
   ],
   "id": "be279cb4b1f562ed"
  },
  {
   "metadata": {},
   "cell_type": "markdown",
   "source": "# System description",
   "id": "e6ef7b2af9f4ab77"
  },
  {
   "metadata": {},
   "cell_type": "markdown",
   "source": "# 1. QR code detection",
   "id": "4c804f48d8804bce"
  },
  {
   "metadata": {},
   "cell_type": "markdown",
   "source": "# 2. Drone control in ideal case\n",
   "id": "4df19b4248602106"
  },
  {
   "metadata": {},
   "cell_type": "markdown",
   "source": "# 3. Drone control in real situation - study of the impact of delay and losses\n",
   "id": "55022f59feff05ca"
  },
  {
   "cell_type": "code",
   "id": "initial_id",
   "metadata": {
    "collapsed": true,
    "ExecuteTime": {
     "end_time": "2025-09-22T13:58:37.162795Z",
     "start_time": "2025-09-22T13:58:35.525222Z"
    }
   },
   "source": [
    "from DroneEnv import DroneLandingEnv, plot_xy_z,plot_trajectory_3d\n",
    "from PIDCon import PIDController\n",
    "import numpy as np\n",
    "\n",
    "# --- Simulation with PID ---\n",
    "env = DroneLandingEnv(render_mode=None)\n",
    "obs, info = env.reset(init_pos=np.array([1.0, 1.0, 1.0]))\n",
    "done = False\n",
    "states = []\n",
    "\n",
    "# Example PID gains (tune these!)\n",
    "pid = PIDController(Kp=[0.5,0.5,0.8], Ki=[0.0,0.0,0.0], Kd=[0.2,0.2,0.3], dt=env.dt, integral_limit=0.5, z_fixed_speed= None)\n",
    "\n",
    "while not done:\n",
    "    pos = obs[:3]\n",
    "    vel = obs[3:]\n",
    "    error = env.target - pos\n",
    "\n",
    "    # Compute PID action\n",
    "    action = pid.compute(error)\n",
    "\n",
    "    obs, reward, terminated, truncated, info = env.step(action)\n",
    "    states.append(obs.copy())\n",
    "    done = terminated or truncated\n",
    "\n",
    "env.close()\n",
    "\n",
    "states = np.array(states)\n",
    "x, y, z = states[:,0], states[:,1], states[:,2]\n",
    "target = env.target\n",
    "\n",
    "# --- Plot results ---\n",
    "plot_trajectory_3d(x, y, z, target)\n",
    "plot_xy_z(x, y, z, target, env.dt)\n"
   ],
   "outputs": [
    {
     "data": {
      "application/vnd.plotly.v1+json": {
       "data": [
        {
         "line": {
          "color": "blue",
          "width": 3
         },
         "mode": "lines",
         "name": "Trajectory",
         "x": {
          "dtype": "f8",
          "bdata": "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"
         },
         "y": {
          "dtype": "f8",
          "bdata": "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"
         },
         "z": {
          "dtype": "f8",
          "bdata": "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"
         },
         "type": "scatter3d"
        },
        {
         "marker": {
          "color": "red",
          "size": 6,
          "symbol": "x"
         },
         "mode": "markers",
         "name": "Target",
         "x": [
          5.0
         ],
         "y": [
          0.0
         ],
         "z": [
          0.0
         ],
         "type": "scatter3d"
        },
        {
         "line": {
          "color": "black",
          "width": 5
         },
         "mode": "lines",
         "showlegend": false,
         "x": [
          4.292781802543354,
          4.892781802543354
         ],
         "y": [
          0.016441278855220412,
          0.016441278855220412
         ],
         "z": [
          0.020220388746052757,
          0.020220388746052757
         ],
         "type": "scatter3d"
        },
        {
         "line": {
          "color": "black",
          "width": 5
         },
         "mode": "lines",
         "showlegend": false,
         "x": [
          4.592781802543354,
          4.592781802543354
         ],
         "y": [
          -0.2835587211447796,
          0.3164412788552204
         ],
         "z": [
          0.020220388746052757,
          0.020220388746052757
         ],
         "type": "scatter3d"
        },
        {
         "marker": {
          "color": "gray",
          "size": 5,
          "symbol": "circle"
         },
         "mode": "markers",
         "showlegend": false,
         "x": [
          4.892781802543354
         ],
         "y": [
          0.016441278855220412
         ],
         "z": [
          0.020220388746052757
         ],
         "type": "scatter3d"
        },
        {
         "marker": {
          "color": "gray",
          "size": 5,
          "symbol": "circle"
         },
         "mode": "markers",
         "showlegend": false,
         "x": [
          4.292781802543354
         ],
         "y": [
          0.016441278855220412
         ],
         "z": [
          0.020220388746052757
         ],
         "type": "scatter3d"
        },
        {
         "marker": {
          "color": "gray",
          "size": 5,
          "symbol": "circle"
         },
         "mode": "markers",
         "showlegend": false,
         "x": [
          4.592781802543354
         ],
         "y": [
          0.3164412788552204
         ],
         "z": [
          0.020220388746052757
         ],
         "type": "scatter3d"
        },
        {
         "marker": {
          "color": "gray",
          "size": 5,
          "symbol": "circle"
         },
         "mode": "markers",
         "showlegend": false,
         "x": [
          4.592781802543354
         ],
         "y": [
          -0.2835587211447796
         ],
         "z": [
          0.020220388746052757
         ],
         "type": "scatter3d"
        }
       ],
       "layout": {
        "template": {
         "data": {
          "histogram2dcontour": [
           {
            "type": "histogram2dcontour",
            "colorbar": {
             "outlinewidth": 0,
             "ticks": ""
            },
            "colorscale": [
             [
              0.0,
              "#0d0887"
             ],
             [
              0.1111111111111111,
              "#46039f"
             ],
             [
              0.2222222222222222,
              "#7201a8"
             ],
             [
              0.3333333333333333,
              "#9c179e"
             ],
             [
              0.4444444444444444,
              "#bd3786"
             ],
             [
              0.5555555555555556,
              "#d8576b"
             ],
             [
              0.6666666666666666,
              "#ed7953"
             ],
             [
              0.7777777777777778,
              "#fb9f3a"
             ],
             [
              0.8888888888888888,
              "#fdca26"
             ],
             [
              1.0,
              "#f0f921"
             ]
            ]
           }
          ],
          "choropleth": [
           {
            "type": "choropleth",
            "colorbar": {
             "outlinewidth": 0,
             "ticks": ""
            }
           }
          ],
          "histogram2d": [
           {
            "type": "histogram2d",
            "colorbar": {
             "outlinewidth": 0,
             "ticks": ""
            },
            "colorscale": [
             [
              0.0,
              "#0d0887"
             ],
             [
              0.1111111111111111,
              "#46039f"
             ],
             [
              0.2222222222222222,
              "#7201a8"
             ],
             [
              0.3333333333333333,
              "#9c179e"
             ],
             [
              0.4444444444444444,
              "#bd3786"
             ],
             [
              0.5555555555555556,
              "#d8576b"
             ],
             [
              0.6666666666666666,
              "#ed7953"
             ],
             [
              0.7777777777777778,
              "#fb9f3a"
             ],
             [
              0.8888888888888888,
              "#fdca26"
             ],
             [
              1.0,
              "#f0f921"
             ]
            ]
           }
          ],
          "heatmap": [
           {
            "type": "heatmap",
            "colorbar": {
             "outlinewidth": 0,
             "ticks": ""
            },
            "colorscale": [
             [
              0.0,
              "#0d0887"
             ],
             [
              0.1111111111111111,
              "#46039f"
             ],
             [
              0.2222222222222222,
              "#7201a8"
             ],
             [
              0.3333333333333333,
              "#9c179e"
             ],
             [
              0.4444444444444444,
              "#bd3786"
             ],
             [
              0.5555555555555556,
              "#d8576b"
             ],
             [
              0.6666666666666666,
              "#ed7953"
             ],
             [
              0.7777777777777778,
              "#fb9f3a"
             ],
             [
              0.8888888888888888,
              "#fdca26"
             ],
             [
              1.0,
              "#f0f921"
             ]
            ]
           }
          ],
          "contourcarpet": [
           {
            "type": "contourcarpet",
            "colorbar": {
             "outlinewidth": 0,
             "ticks": ""
            }
           }
          ],
          "contour": [
           {
            "type": "contour",
            "colorbar": {
             "outlinewidth": 0,
             "ticks": ""
            },
            "colorscale": [
             [
              0.0,
              "#0d0887"
             ],
             [
              0.1111111111111111,
              "#46039f"
             ],
             [
              0.2222222222222222,
              "#7201a8"
             ],
             [
              0.3333333333333333,
              "#9c179e"
             ],
             [
              0.4444444444444444,
              "#bd3786"
             ],
             [
              0.5555555555555556,
              "#d8576b"
             ],
             [
              0.6666666666666666,
              "#ed7953"
             ],
             [
              0.7777777777777778,
              "#fb9f3a"
             ],
             [
              0.8888888888888888,
              "#fdca26"
             ],
             [
              1.0,
              "#f0f921"
             ]
            ]
           }
          ],
          "surface": [
           {
            "type": "surface",
            "colorbar": {
             "outlinewidth": 0,
             "ticks": ""
            },
            "colorscale": [
             [
              0.0,
              "#0d0887"
             ],
             [
              0.1111111111111111,
              "#46039f"
             ],
             [
              0.2222222222222222,
              "#7201a8"
             ],
             [
              0.3333333333333333,
              "#9c179e"
             ],
             [
              0.4444444444444444,
              "#bd3786"
             ],
             [
              0.5555555555555556,
              "#d8576b"
             ],
             [
              0.6666666666666666,
              "#ed7953"
             ],
             [
              0.7777777777777778,
              "#fb9f3a"
             ],
             [
              0.8888888888888888,
              "#fdca26"
             ],
             [
              1.0,
              "#f0f921"
             ]
            ]
           }
          ],
          "mesh3d": [
           {
            "type": "mesh3d",
            "colorbar": {
             "outlinewidth": 0,
             "ticks": ""
            }
           }
          ],
          "scatter": [
           {
            "fillpattern": {
             "fillmode": "overlay",
             "size": 10,
             "solidity": 0.2
            },
            "type": "scatter"
           }
          ],
          "parcoords": [
           {
            "type": "parcoords",
            "line": {
             "colorbar": {
              "outlinewidth": 0,
              "ticks": ""
             }
            }
           }
          ],
          "scatterpolargl": [
           {
            "type": "scatterpolargl",
            "marker": {
             "colorbar": {
              "outlinewidth": 0,
              "ticks": ""
             }
            }
           }
          ],
          "bar": [
           {
            "error_x": {
             "color": "#2a3f5f"
            },
            "error_y": {
             "color": "#2a3f5f"
            },
            "marker": {
             "line": {
              "color": "#E5ECF6",
              "width": 0.5
             },
             "pattern": {
              "fillmode": "overlay",
              "size": 10,
              "solidity": 0.2
             }
            },
            "type": "bar"
           }
          ],
          "scattergeo": [
           {
            "type": "scattergeo",
            "marker": {
             "colorbar": {
              "outlinewidth": 0,
              "ticks": ""
             }
            }
           }
          ],
          "scatterpolar": [
           {
            "type": "scatterpolar",
            "marker": {
             "colorbar": {
              "outlinewidth": 0,
              "ticks": ""
             }
            }
           }
          ],
          "histogram": [
           {
            "marker": {
             "pattern": {
              "fillmode": "overlay",
              "size": 10,
              "solidity": 0.2
             }
            },
            "type": "histogram"
           }
          ],
          "scattergl": [
           {
            "type": "scattergl",
            "marker": {
             "colorbar": {
              "outlinewidth": 0,
              "ticks": ""
             }
            }
           }
          ],
          "scatter3d": [
           {
            "type": "scatter3d",
            "line": {
             "colorbar": {
              "outlinewidth": 0,
              "ticks": ""
             }
            },
            "marker": {
             "colorbar": {
              "outlinewidth": 0,
              "ticks": ""
             }
            }
           }
          ],
          "scattermap": [
           {
            "type": "scattermap",
            "marker": {
             "colorbar": {
              "outlinewidth": 0,
              "ticks": ""
             }
            }
           }
          ],
          "scattermapbox": [
           {
            "type": "scattermapbox",
            "marker": {
             "colorbar": {
              "outlinewidth": 0,
              "ticks": ""
             }
            }
           }
          ],
          "scatterternary": [
           {
            "type": "scatterternary",
            "marker": {
             "colorbar": {
              "outlinewidth": 0,
              "ticks": ""
             }
            }
           }
          ],
          "scattercarpet": [
           {
            "type": "scattercarpet",
            "marker": {
             "colorbar": {
              "outlinewidth": 0,
              "ticks": ""
             }
            }
           }
          ],
          "carpet": [
           {
            "aaxis": {
             "endlinecolor": "#2a3f5f",
             "gridcolor": "white",
             "linecolor": "white",
             "minorgridcolor": "white",
             "startlinecolor": "#2a3f5f"
            },
            "baxis": {
             "endlinecolor": "#2a3f5f",
             "gridcolor": "white",
             "linecolor": "white",
             "minorgridcolor": "white",
             "startlinecolor": "#2a3f5f"
            },
            "type": "carpet"
           }
          ],
          "table": [
           {
            "cells": {
             "fill": {
              "color": "#EBF0F8"
             },
             "line": {
              "color": "white"
             }
            },
            "header": {
             "fill": {
              "color": "#C8D4E3"
             },
             "line": {
              "color": "white"
             }
            },
            "type": "table"
           }
          ],
          "barpolar": [
           {
            "marker": {
             "line": {
              "color": "#E5ECF6",
              "width": 0.5
             },
             "pattern": {
              "fillmode": "overlay",
              "size": 10,
              "solidity": 0.2
             }
            },
            "type": "barpolar"
           }
          ],
          "pie": [
           {
            "automargin": true,
            "type": "pie"
           }
          ]
         },
         "layout": {
          "autotypenumbers": "strict",
          "colorway": [
           "#636efa",
           "#EF553B",
           "#00cc96",
           "#ab63fa",
           "#FFA15A",
           "#19d3f3",
           "#FF6692",
           "#B6E880",
           "#FF97FF",
           "#FECB52"
          ],
          "font": {
           "color": "#2a3f5f"
          },
          "hovermode": "closest",
          "hoverlabel": {
           "align": "left"
          },
          "paper_bgcolor": "white",
          "plot_bgcolor": "#E5ECF6",
          "polar": {
           "bgcolor": "#E5ECF6",
           "angularaxis": {
            "gridcolor": "white",
            "linecolor": "white",
            "ticks": ""
           },
           "radialaxis": {
            "gridcolor": "white",
            "linecolor": "white",
            "ticks": ""
           }
          },
          "ternary": {
           "bgcolor": "#E5ECF6",
           "aaxis": {
            "gridcolor": "white",
            "linecolor": "white",
            "ticks": ""
           },
           "baxis": {
            "gridcolor": "white",
            "linecolor": "white",
            "ticks": ""
           },
           "caxis": {
            "gridcolor": "white",
            "linecolor": "white",
            "ticks": ""
           }
          },
          "coloraxis": {
           "colorbar": {
            "outlinewidth": 0,
            "ticks": ""
           }
          },
          "colorscale": {
           "sequential": [
            [
             0.0,
             "#0d0887"
            ],
            [
             0.1111111111111111,
             "#46039f"
            ],
            [
             0.2222222222222222,
             "#7201a8"
            ],
            [
             0.3333333333333333,
             "#9c179e"
            ],
            [
             0.4444444444444444,
             "#bd3786"
            ],
            [
             0.5555555555555556,
             "#d8576b"
            ],
            [
             0.6666666666666666,
             "#ed7953"
            ],
            [
             0.7777777777777778,
             "#fb9f3a"
            ],
            [
             0.8888888888888888,
             "#fdca26"
            ],
            [
             1.0,
             "#f0f921"
            ]
           ],
           "sequentialminus": [
            [
             0.0,
             "#0d0887"
            ],
            [
             0.1111111111111111,
             "#46039f"
            ],
            [
             0.2222222222222222,
             "#7201a8"
            ],
            [
             0.3333333333333333,
             "#9c179e"
            ],
            [
             0.4444444444444444,
             "#bd3786"
            ],
            [
             0.5555555555555556,
             "#d8576b"
            ],
            [
             0.6666666666666666,
             "#ed7953"
            ],
            [
             0.7777777777777778,
             "#fb9f3a"
            ],
            [
             0.8888888888888888,
             "#fdca26"
            ],
            [
             1.0,
             "#f0f921"
            ]
           ],
           "diverging": [
            [
             0,
             "#8e0152"
            ],
            [
             0.1,
             "#c51b7d"
            ],
            [
             0.2,
             "#de77ae"
            ],
            [
             0.3,
             "#f1b6da"
            ],
            [
             0.4,
             "#fde0ef"
            ],
            [
             0.5,
             "#f7f7f7"
            ],
            [
             0.6,
             "#e6f5d0"
            ],
            [
             0.7,
             "#b8e186"
            ],
            [
             0.8,
             "#7fbc41"
            ],
            [
             0.9,
             "#4d9221"
            ],
            [
             1,
             "#276419"
            ]
           ]
          },
          "xaxis": {
           "gridcolor": "white",
           "linecolor": "white",
           "ticks": "",
           "title": {
            "standoff": 15
           },
           "zerolinecolor": "white",
           "automargin": true,
           "zerolinewidth": 2
          },
          "yaxis": {
           "gridcolor": "white",
           "linecolor": "white",
           "ticks": "",
           "title": {
            "standoff": 15
           },
           "zerolinecolor": "white",
           "automargin": true,
           "zerolinewidth": 2
          },
          "scene": {
           "xaxis": {
            "backgroundcolor": "#E5ECF6",
            "gridcolor": "white",
            "linecolor": "white",
            "showbackground": true,
            "ticks": "",
            "zerolinecolor": "white",
            "gridwidth": 2
           },
           "yaxis": {
            "backgroundcolor": "#E5ECF6",
            "gridcolor": "white",
            "linecolor": "white",
            "showbackground": true,
            "ticks": "",
            "zerolinecolor": "white",
            "gridwidth": 2
           },
           "zaxis": {
            "backgroundcolor": "#E5ECF6",
            "gridcolor": "white",
            "linecolor": "white",
            "showbackground": true,
            "ticks": "",
            "zerolinecolor": "white",
            "gridwidth": 2
           }
          },
          "shapedefaults": {
           "line": {
            "color": "#2a3f5f"
           }
          },
          "annotationdefaults": {
           "arrowcolor": "#2a3f5f",
           "arrowhead": 0,
           "arrowwidth": 1
          },
          "geo": {
           "bgcolor": "white",
           "landcolor": "#E5ECF6",
           "subunitcolor": "white",
           "showland": true,
           "showlakes": true,
           "lakecolor": "white"
          },
          "title": {
           "x": 0.05
          },
          "mapbox": {
           "style": "light"
          }
         }
        },
        "scene": {
         "xaxis": {
          "title": {
           "text": "X [m]"
          }
         },
         "yaxis": {
          "title": {
           "text": "Y [m]"
          }
         },
         "zaxis": {
          "title": {
           "text": "Z [m]"
          }
         },
         "aspectmode": "data"
        },
        "title": {
         "text": "Drone Landing Trajectory"
        },
        "width": 800,
        "height": 600
       },
       "config": {
        "plotlyServerURL": "https://plot.ly"
       }
      }
     },
     "metadata": {},
     "output_type": "display_data"
    },
    {
     "data": {
      "text/plain": [
       "<Figure size 1200x500 with 2 Axes>"
      ],
      "image/png": "[encoded data removed]"
     },
     "metadata": {},
     "output_type": "display_data"
    }
   ],
   "execution_count": 1
  },
  {
   "metadata": {},
   "cell_type": "code",
   "outputs": [],
   "execution_count": null,
   "source": "",
   "id": "76e750e6d644f012"
  }
 ],
 "metadata": {
  "kernelspec": {
   "display_name": "Python 3",
   "language": "python",
   "name": "python3"
  },
  "language_info": {
   "codemirror_mode": {
    "name": "ipython",
    "version": 2
   },
   "file_extension": ".py",
   "mimetype": "text/x-python",
   "name": "python",
   "nbconvert_exporter": "python",
   "pygments_lexer": "ipython2",
   "version": "2.7.6"
  }
 },
 "nbformat": 4,
 "nbformat_minor": 5
}
